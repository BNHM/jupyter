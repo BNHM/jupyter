{
 "cells": [
  {
   "cell_type": "code",
   "execution_count": 1,
   "id": "e5f7860c-3899-4f7f-8db5-be9ec4cadc7e",
   "metadata": {},
   "outputs": [
    {
     "name": "stdout",
     "output_type": "stream",
     "text": [
      "Loaded XSLT file: C:/Users/cfidler/Desktop/Mods_test/transform.xsl\n",
      "Processing file: Grinnell_v1316_MODS.xml\n",
      "Successfully transformed and saved Grinnell_v1316_MODS_ead.xml to C:/Users/cfidler/Desktop/Mods_test\n",
      "Processing file: Grinnell_v1318_MODS.xml\n",
      "Successfully transformed and saved Grinnell_v1318_MODS_ead.xml to C:/Users/cfidler/Desktop/Mods_test\n",
      "Transformation complete.\n"
     ]
    }
   ],
   "source": [
    "import os\n",
    "from lxml import etree\n",
    "\n",
    "# Path to the directory containing the MODS files\n",
    "mods_directory = r'C:/Users/cfidler/Desktop/Mods_test/mods_files'\n",
    "\n",
    "# Path to the directory where the EAD files will be saved\n",
    "output_directory = r'C:/Users/cfidler/Desktop/Mods_test'\n",
    "\n",
    "# Ensure the output directory exists, if not, create it\n",
    "if not os.path.exists(output_directory):\n",
    "    os.makedirs(output_directory)\n",
    "\n",
    "# Path to the XSLT file that transforms MODS to EAD\n",
    "xslt_file = r'C:/Users/cfidler/Desktop/Mods_test/transform.xsl'\n",
    "\n",
    "# Load the XSLT transformation (open in binary mode)\n",
    "try:\n",
    "    with open(xslt_file, 'rb') as f:\n",
    "        xslt_content = f.read()\n",
    "        print(f\"Loaded XSLT file: {xslt_file}\")\n",
    "except FileNotFoundError:\n",
    "    print(f\"Error: XSLT file not found at {xslt_file}\")\n",
    "    exit()\n",
    "\n",
    "# Parse the XSLT content as bytes\n",
    "xslt_root = etree.XML(xslt_content)\n",
    "transform = etree.XSLT(xslt_root)\n",
    "\n",
    "# Check if the MODS directory has XML files\n",
    "xml_files = [f for f in os.listdir(mods_directory) if f.endswith('.xml')]\n",
    "if not xml_files:\n",
    "    print(f\"No XML files found in the directory: {mods_directory}\")\n",
    "    exit()\n",
    "\n",
    "# Iterate over all XML files in the directory\n",
    "for filename in xml_files:\n",
    "    file_path = os.path.join(mods_directory, filename)\n",
    "\n",
    "    # Parse the MODS XML file (open in binary mode)\n",
    "    try:\n",
    "        with open(file_path, 'rb') as xml_file:\n",
    "            mods_content = xml_file.read()\n",
    "            print(f\"Processing file: {filename}\")\n",
    "    except FileNotFoundError:\n",
    "        print(f\"Error: XML file not found at {file_path}\")\n",
    "        continue\n",
    "\n",
    "    try:\n",
    "        mods_tree = etree.XML(mods_content)\n",
    "    except etree.XMLSyntaxError as e:\n",
    "        print(f\"Error parsing XML file {filename}: {e}\")\n",
    "        continue\n",
    "\n",
    "    # Apply the XSLT transformation\n",
    "    try:\n",
    "        ead_tree = transform(mods_tree)\n",
    "    except Exception as e:\n",
    "        print(f\"Error applying XSLT transformation to {filename}: {e}\")\n",
    "        continue\n",
    "\n",
    "    # Save the EAD output to the specified output directory with '_ead.xml' suffix\n",
    "    ead_filename = filename.replace('.xml', '_ead.xml')\n",
    "    ead_file_path = os.path.join(output_directory, ead_filename)\n",
    "\n",
    "    try:\n",
    "        with open(ead_file_path, 'wb') as output_file:\n",
    "            output_file.write(etree.tostring(ead_tree, pretty_print=True, xml_declaration=True, encoding='UTF-8'))\n",
    "            print(f\"Successfully transformed and saved {ead_filename} to {output_directory}\")\n",
    "    except Exception as e:\n",
    "        print(f\"Error saving file {ead_filename}: {e}\")\n",
    "\n",
    "print(\"Transformation complete.\")\n"
   ]
  },
  {
   "cell_type": "code",
   "execution_count": 7,
   "id": "17300dae-7b07-4041-a66d-09abc791f5c6",
   "metadata": {},
   "outputs": [
    {
     "name": "stdout",
     "output_type": "stream",
     "text": [
      "Current working directory: C:\\Users\\cfidler\n"
     ]
    }
   ],
   "source": [
    "import os\n",
    "print(f\"Current working directory: {os.getcwd()}\")\n"
   ]
  },
  {
   "cell_type": "code",
   "execution_count": null,
   "id": "989fbf66-396b-4401-b94a-7e7b549bfb92",
   "metadata": {},
   "outputs": [],
   "source": []
  }
 ],
 "metadata": {
  "kernelspec": {
   "display_name": "Python 3 (ipykernel)",
   "language": "python",
   "name": "python3"
  },
  "language_info": {
   "codemirror_mode": {
    "name": "ipython",
    "version": 3
   },
   "file_extension": ".py",
   "mimetype": "text/x-python",
   "name": "python",
   "nbconvert_exporter": "python",
   "pygments_lexer": "ipython3",
   "version": "3.11.7"
  }
 },
 "nbformat": 4,
 "nbformat_minor": 5
}
